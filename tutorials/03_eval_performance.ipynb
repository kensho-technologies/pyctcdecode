{
 "cells": [
  {
   "cell_type": "markdown",
   "metadata": {},
   "source": [
    "## Evaluate performance of `pyctcdecode` on LibriSpeech dev-other"
   ]
  },
  {
   "cell_type": "markdown",
   "metadata": {},
   "source": [
    "### Prepare the data"
   ]
  },
  {
   "cell_type": "code",
   "execution_count": null,
   "metadata": {},
   "outputs": [],
   "source": [
    "# download librispeech dev-other corpus, using one of the great existing scripts, for example:\n",
    "#     https://github.com/NVIDIA/NeMo/blob/main/scripts/dataset_processing/get_librispeech_data.py"
   ]
  },
  {
   "cell_type": "code",
   "execution_count": 8,
   "metadata": {},
   "outputs": [],
   "source": [
    "# load manifest that holds meta information on all files in dev_other\n",
    "import pandas as pd\n",
    "dev_other_df = pd.read_json(\"/my_dir/dev_other.json\", lines=True)"
   ]
  },
  {
   "cell_type": "markdown",
   "metadata": {},
   "source": [
    "### Prepare  transcription logits using a pretrained speech model"
   ]
  },
  {
   "cell_type": "code",
   "execution_count": null,
   "metadata": {},
   "outputs": [],
   "source": []
  },
  {
   "cell_type": "markdown",
   "metadata": {},
   "source": [
    "### Prepare offical pre-trained language model for librispeech"
   ]
  },
  {
   "cell_type": "code",
   "execution_count": null,
   "metadata": {},
   "outputs": [],
   "source": [
    "# NOTE: some of the code to parse the librispeech data is borrowed from the official NeMo tutorial \n",
    "#     https://github.com/NVIDIA/NeMo/blob/main/tutorials/asr/Offline_ASR.ipynb"
   ]
  },
  {
   "cell_type": "code",
   "execution_count": null,
   "metadata": {},
   "outputs": [],
   "source": [
    "# download pretrained knelm model for librispeech\n",
    "import gzip\n",
    "import os, shutil, wget\n",
    "\n",
    "lm_gzip_path = '3-gram.pruned.1e-7.arpa.gz'\n",
    "if not os.path.exists(lm_gzip_path):\n",
    "    print('Downloading pruned 3-gram model.')\n",
    "    lm_url = 'http://www.openslr.org/resources/11/3-gram.pruned.1e-7.arpa.gz'\n",
    "    lm_gzip_path = wget.download(lm_url)\n",
    "    print('Downloaded the 3-gram language model.')\n",
    "else:\n",
    "    print('Pruned .arpa.gz already exists.')\n",
    "\n",
    "# NOTE: since out nemo vocabulary is all lowercased, we need to convert all librispeech data as well\n",
    "uppercase_lm_path = '3-gram.pruned.1e-7.arpa'\n",
    "if not os.path.exists(uppercase_lm_path):\n",
    "    with gzip.open(lm_gzip_path, 'rb') as f_zipped:\n",
    "        with open(uppercase_lm_path, 'wb') as f_unzipped:\n",
    "            shutil.copyfileobj(f_zipped, f_unzipped)\n",
    "    print('Unzipped the 3-gram language model.')\n",
    "else:\n",
    "    print('Unzipped .arpa already exists.')\n",
    "\n",
    "lm_path = 'lowercase_3-gram.pruned.1e-7.arpa'\n",
    "if not os.path.exists(lm_path):\n",
    "    with open(uppercase_lm_path, 'r') as f_upper:\n",
    "        with open(lm_path, 'w') as f_lower:\n",
    "            for line in f_upper:\n",
    "                f_lower.write(line.lower())\n",
    "print('Converted language model file to lowercase.')"
   ]
  },
  {
   "cell_type": "code",
   "execution_count": 12,
   "metadata": {},
   "outputs": [
    {
     "name": "stdout",
     "output_type": "stream",
     "text": [
      "--2021-04-27 12:26:03--  http://www.openslr.org/resources/11/librispeech-vocab.txt\n",
      "Resolving www.openslr.org (www.openslr.org)... 46.101.158.64\n",
      "Connecting to www.openslr.org (www.openslr.org)|46.101.158.64|:80... connected.\n",
      "HTTP request sent, awaiting response... 200 OK\n",
      "Length: 1737588 (1.7M) [text/plain]\n",
      "Saving to: ‘librispeech-vocab.txt’\n",
      "\n",
      "librispeech-vocab.t 100%[===================>]   1.66M  1.07MB/s    in 1.6s    \n",
      "\n",
      "2021-04-27 12:26:05 (1.07 MB/s) - ‘librispeech-vocab.txt’ saved [1737588/1737588]\n",
      "\n"
     ]
    }
   ],
   "source": [
    "# download unigram vocab\n",
    "!wget http://www.openslr.org/resources/11/librispeech-vocab.txt"
   ]
  },
  {
   "cell_type": "markdown",
   "metadata": {},
   "source": [
    "### Prepare deepspeech decoder"
   ]
  },
  {
   "cell_type": "code",
   "execution_count": null,
   "metadata": {},
   "outputs": [],
   "source": [
    "# !pip install ds_ctcdecoder==0.9.3\n",
    "# download and unpack native_client.*.tar.xz  from https://github.com/mozilla/DeepSpeech/releases/tag/v0.9.3\n",
    "\n",
    "# generate a scorer which we can use in the python package\n",
    "# /my/dir/native_client_0.9.3/generate_scorer_package \\\n",
    "#     --alphabet /my/dir/alphabet.txt \\\n",
    "#     --lm /my/dir/lowercase_3-gram.pruned.1e-7.binary \\\n",
    "#     --vocab /my/dir/lowercase_librispeech-vocab.txt \\\n",
    "#     --package /my/dir/lowercase_3-gram.scorer \\\n",
    "#     --default_alpha 0.5 \\\n",
    "#     --default_beta 1.0"
   ]
  },
  {
   "cell_type": "code",
   "execution_count": null,
   "metadata": {},
   "outputs": [],
   "source": [
    "# prepare logits_list for dev_other like in tutorial tutorials/asr_nemo.ipynb"
   ]
  },
  {
   "cell_type": "code",
   "execution_count": null,
   "metadata": {},
   "outputs": [],
   "source": [
    "import ds_ctcdecoder\n",
    "from pyctcdecode import build_ctcdecoder"
   ]
  },
  {
   "cell_type": "code",
   "execution_count": null,
   "metadata": {},
   "outputs": [],
   "source": [
    "from scipy.special import softmax\n",
    "\n",
    "# we need to do array padding for batch decoding\n",
    "def _pad_array_list(array_list):\n",
    "    \"\"\"Pad a list of arrays to have the same length.\"\"\"\n",
    "    max_val = max(len(arr) for arr in array_list)\n",
    "    pad_vec = np.zeros((1, array_list[0].shape[1]))\n",
    "    pad_vec[0, -1] = 1\n",
    "    return [np.concatenate([arr] + [pad_vec] * (max_val - arr.shape[0])) for arr in array_list]"
   ]
  },
  {
   "cell_type": "code",
   "execution_count": null,
   "metadata": {},
   "outputs": [],
   "source": [
    "# prepare ds_decoder\n",
    "ds_alphabet = ds_ctcdecoder.Alphabet(\"ds_decoder_alphabet.txt\")\n",
    "ds_scorer = ds_ctcdecoder.Scorer(\n",
    "    0, 0, scorer_path=\"lowercase_3-gram.scorer\", alphabet=ds_alphabet\n",
    ")\n",
    "prob_list = [softmax(logits, axis=1) for logits in logits_list]\n",
    "seq_lengths = [arr.shape[0] for arr in logits_list]\n",
    "padded_prob_list = _pad_array_list(prob_list)"
   ]
  },
  {
   "cell_type": "code",
   "execution_count": 16,
   "metadata": {},
   "outputs": [
    {
     "data": {
      "text/html": [
       "<div>\n",
       "<style scoped>\n",
       "    .dataframe tbody tr th:only-of-type {\n",
       "        vertical-align: middle;\n",
       "    }\n",
       "\n",
       "    .dataframe tbody tr th {\n",
       "        vertical-align: top;\n",
       "    }\n",
       "\n",
       "    .dataframe thead th {\n",
       "        text-align: right;\n",
       "    }\n",
       "</style>\n",
       "<table border=\"1\" class=\"dataframe\">\n",
       "  <thead>\n",
       "    <tr style=\"text-align: right;\">\n",
       "      <th></th>\n",
       "      <th>alpha</th>\n",
       "      <th>beta</th>\n",
       "      <th>wer</th>\n",
       "    </tr>\n",
       "  </thead>\n",
       "  <tbody>\n",
       "    <tr>\n",
       "      <th>4</th>\n",
       "      <td>0.7</td>\n",
       "      <td>3.0</td>\n",
       "      <td>0.076822</td>\n",
       "    </tr>\n",
       "    <tr>\n",
       "      <th>0</th>\n",
       "      <td>0.6</td>\n",
       "      <td>2.0</td>\n",
       "      <td>0.076937</td>\n",
       "    </tr>\n",
       "    <tr>\n",
       "      <th>1</th>\n",
       "      <td>0.6</td>\n",
       "      <td>3.0</td>\n",
       "      <td>0.077032</td>\n",
       "    </tr>\n",
       "    <tr>\n",
       "      <th>3</th>\n",
       "      <td>0.7</td>\n",
       "      <td>2.0</td>\n",
       "      <td>0.077083</td>\n",
       "    </tr>\n",
       "    <tr>\n",
       "      <th>7</th>\n",
       "      <td>0.8</td>\n",
       "      <td>3.0</td>\n",
       "      <td>0.077113</td>\n",
       "    </tr>\n",
       "  </tbody>\n",
       "</table>\n",
       "</div>"
      ],
      "text/plain": [
       "   alpha  beta       wer\n",
       "4    0.7   3.0  0.076822\n",
       "0    0.6   2.0  0.076937\n",
       "1    0.6   3.0  0.077032\n",
       "3    0.7   2.0  0.077083\n",
       "7    0.8   3.0  0.077113"
      ]
     },
     "execution_count": 16,
     "metadata": {},
     "output_type": "execute_result"
    }
   ],
   "source": [
    "data_grid = []\n",
    "for a in [0.6, 0.7, 0.8]:\n",
    "    for b in [2.0, 3.0, 4.0]:\n",
    "        decoder.reset_params(alpha=a, beta=b)\n",
    "        with multiprocessing.get_context(\"fork\").Pool(15) as pool:\n",
    "            # use lower beam-with here for fast testing\n",
    "            lm_preds =  decoder.decode_batch(pool, logits_list, beam_width=50)\n",
    "        wer_val = word_error_rate(dev_other_df[\"text\"].tolist(), lm_preds)\n",
    "        data_grid.append((a, b, wer_val))\n",
    "pd.DataFrame(data_grid, columns=[\"alpha\", \"beta\", \"wer\"]).sort_values(by=\"wer\").head()"
   ]
  },
  {
   "cell_type": "markdown",
   "metadata": {},
   "source": [
    "### Prepare `pyctcdecode.decoder`"
   ]
  },
  {
   "cell_type": "code",
   "execution_count": 6,
   "metadata": {},
   "outputs": [],
   "source": [
    "# load unigram list\n",
    "with open(\"librispeech-vocab.txt\") as f:\n",
    "    unigram_list = [t.lower() for t in f.read().strip().split(\"\\n\")]\n",
    "    \n",
    "# load kenlm Model\n",
    "import kenlm\n",
    "kenlm_model = kenlm.Model('lowercase_3-gram.pruned.1e-7.arpa')"
   ]
  },
  {
   "cell_type": "code",
   "execution_count": 7,
   "metadata": {},
   "outputs": [
    {
     "data": {
      "text/plain": [
       "'boil them before they are put into the soup or other dish they may be intended for'"
      ]
     },
     "execution_count": 7,
     "metadata": {},
     "output_type": "execute_result"
    }
   ],
   "source": [
    "decoder = build_ctcdecoder(\n",
    "    asr_model.decoder.vocabulary,\n",
    "    kenlm_model,\n",
    "    unigram_list,\n",
    ")\n",
    "decoder.decode(logits)"
   ]
  },
  {
   "cell_type": "code",
   "execution_count": 10,
   "metadata": {},
   "outputs": [],
   "source": [
    "# decode all logits (this may take a while)\n",
    "logits_list = [\n",
    "    a.cpu().detach().numpy() \n",
    "    for a in asr_model.transcribe(dev_other_df[\"audio_filepath\"].tolist(), logprobs=True)\n",
    "]"
   ]
  },
  {
   "cell_type": "code",
   "execution_count": 11,
   "metadata": {},
   "outputs": [],
   "source": [
    "decoder = build_ctcdecoder(\n",
    "    asr_model.decoder.vocabulary,\n",
    "    kenlm_model,\n",
    "    unigram_list,\n",
    ")"
   ]
  },
  {
   "cell_type": "code",
   "execution_count": 12,
   "metadata": {},
   "outputs": [],
   "source": [
    "import multiprocessing\n",
    "with multiprocessing.get_context(\"fork\").Pool() as pool:\n",
    "    pred_list = decoder.decode_batch(pool, logits_list)"
   ]
  },
  {
   "cell_type": "code",
   "execution_count": 13,
   "metadata": {},
   "outputs": [
    {
     "data": {
      "text/plain": [
       "0.07708590580349269"
      ]
     },
     "execution_count": 13,
     "metadata": {},
     "output_type": "execute_result"
    }
   ],
   "source": [
    "from nemo.collections.asr.metrics.wer import word_error_rate\n",
    "word_error_rate(dev_other_df[\"text\"].tolist(), pred_list)"
   ]
  },
  {
   "cell_type": "code",
   "execution_count": null,
   "metadata": {},
   "outputs": [],
   "source": [
    "# let's compare this to greedy decoding\n",
    "def _greedy_decode(logits):\n",
    "    \"\"\"Decode argmax of logits and squash in CTC fashion.\"\"\"\n",
    "    label_dict = {n: c for n, c in enumerate(labels)}\n",
    "    prev_c = None\n",
    "    out = []\n",
    "    for n in logits.argmax(axis=1):\n",
    "        c = label_dict.get(n, \"\")  # if not in labels, then assume it's ctc blank char\n",
    "        if c != prev_c:\n",
    "            out.append(c)\n",
    "        prev_c = c\n",
    "    return \"\".join(out)"
   ]
  },
  {
   "cell_type": "code",
   "execution_count": 15,
   "metadata": {},
   "outputs": [
    {
     "data": {
      "text/plain": [
       "0.10084215497225611"
      ]
     },
     "execution_count": 15,
     "metadata": {},
     "output_type": "execute_result"
    }
   ],
   "source": [
    "word_error_rate(dev_other_df[\"text\"].tolist(), [_greedy_decode(l) for l in logits_list])"
   ]
  },
  {
   "cell_type": "markdown",
   "metadata": {},
   "source": [
    "we did better by using a language model, but we can improve this further by tuning the decoder parameters"
   ]
  },
  {
   "cell_type": "code",
   "execution_count": 16,
   "metadata": {},
   "outputs": [
    {
     "data": {
      "text/html": [
       "<div>\n",
       "<style scoped>\n",
       "    .dataframe tbody tr th:only-of-type {\n",
       "        vertical-align: middle;\n",
       "    }\n",
       "\n",
       "    .dataframe tbody tr th {\n",
       "        vertical-align: top;\n",
       "    }\n",
       "\n",
       "    .dataframe thead th {\n",
       "        text-align: right;\n",
       "    }\n",
       "</style>\n",
       "<table border=\"1\" class=\"dataframe\">\n",
       "  <thead>\n",
       "    <tr style=\"text-align: right;\">\n",
       "      <th></th>\n",
       "      <th>alpha</th>\n",
       "      <th>beta</th>\n",
       "      <th>wer</th>\n",
       "    </tr>\n",
       "  </thead>\n",
       "  <tbody>\n",
       "    <tr>\n",
       "      <th>4</th>\n",
       "      <td>0.7</td>\n",
       "      <td>3.0</td>\n",
       "      <td>0.076822</td>\n",
       "    </tr>\n",
       "    <tr>\n",
       "      <th>0</th>\n",
       "      <td>0.6</td>\n",
       "      <td>2.0</td>\n",
       "      <td>0.076937</td>\n",
       "    </tr>\n",
       "    <tr>\n",
       "      <th>1</th>\n",
       "      <td>0.6</td>\n",
       "      <td>3.0</td>\n",
       "      <td>0.077032</td>\n",
       "    </tr>\n",
       "    <tr>\n",
       "      <th>3</th>\n",
       "      <td>0.7</td>\n",
       "      <td>2.0</td>\n",
       "      <td>0.077083</td>\n",
       "    </tr>\n",
       "    <tr>\n",
       "      <th>7</th>\n",
       "      <td>0.8</td>\n",
       "      <td>3.0</td>\n",
       "      <td>0.077113</td>\n",
       "    </tr>\n",
       "  </tbody>\n",
       "</table>\n",
       "</div>"
      ],
      "text/plain": [
       "   alpha  beta       wer\n",
       "4    0.7   3.0  0.076822\n",
       "0    0.6   2.0  0.076937\n",
       "1    0.6   3.0  0.077032\n",
       "3    0.7   2.0  0.077083\n",
       "7    0.8   3.0  0.077113"
      ]
     },
     "execution_count": 16,
     "metadata": {},
     "output_type": "execute_result"
    }
   ],
   "source": [
    "data_grid = []\n",
    "for a in [0.6, 0.7, 0.8]:\n",
    "    for b in [2.0, 3.0, 4.0]:\n",
    "        decoder.reset_params(alpha=a, beta=b)\n",
    "        with multiprocessing.get_context(\"fork\").Pool(15) as pool:\n",
    "            # use lower beam-with here for fast testing\n",
    "            lm_preds =  decoder.decode_batch(pool, logits_list, beam_width=50)\n",
    "        wer_val = word_error_rate(dev_other_df[\"text\"].tolist(), lm_preds)\n",
    "        data_grid.append((a, b, wer_val))\n",
    "pd.DataFrame(data_grid, columns=[\"alpha\", \"beta\", \"wer\"]).sort_values(by=\"wer\").head()"
   ]
  },
  {
   "cell_type": "markdown",
   "metadata": {},
   "source": [
    "## Compare decoder performance/speed"
   ]
  },
  {
   "cell_type": "code",
   "execution_count": null,
   "metadata": {},
   "outputs": [],
   "source": [
    "# sweep beam_width for custom\n",
    "data = []\n",
    "for beam_width in [1, 5, 10, 50, 100, 150, 200]:\n",
    "    decoder = build_ctcdecoder(\n",
    "        labels,\n",
    "        kenlm_model,\n",
    "        unigrams,\n",
    "        alpha=0.7,\n",
    "        beta=3.0,\n",
    "        score_lm_boundary=True,\n",
    "    )\n",
    "    with multiprocessing.get_context(\"fork\").Pool(15) as pool:\n",
    "        pred_list = decoder.decode_batch(logits_list, pool, beam_width=beam_width)\n",
    "    wer_val = eval_average_wer(text_list, pred_list)\n",
    "    t0 = time.time()\n",
    "    _ = [decoder.decode(l, beam_width=beam_width) for l in logits_list[:500]]\n",
    "    dur = round((time.time() - t0) / 500 * 1000, 1)\n",
    "    data.append((wer_val, dur, beam_width, prune_logp))\n",
    "df_pyctc = pd.DataFrame(data * 100, columns=['wer_val', 'avg_dur_ms', 'beam_width'])"
   ]
  },
  {
   "cell_type": "code",
   "execution_count": null,
   "metadata": {},
   "outputs": [],
   "source": [
    "# sweep beam_width for ds_decoder\n",
    "data = []\n",
    "for beam_width in [1, 5, 10, 25, 50, 100, 150, 200]:\n",
    "    ds_scorer.reset_params(0.7, 2.0)\n",
    "    out = ds_ctcdecoder.ctc_beam_search_decoder_batch(\n",
    "        padded_prob_list,\n",
    "        seq_lengths,\n",
    "        ds_alphabet,\n",
    "        beam_width,\n",
    "        15,\n",
    "        scorer=ds_scorer,\n",
    "    )\n",
    "    pred_list = [e[0][-1] for e in out]\n",
    "    wer_val = eval_average_wer(text_list, pred_list)\n",
    "    t0 = time.time()\n",
    "    _ = [\n",
    "        ds_ctcdecoder.ctc_beam_search_decoder(\n",
    "            softmax(l, axis=-1),\n",
    "            ds_alphabet,\n",
    "            beam_width,\n",
    "            scorer=ds_scorer,\n",
    "        ) \n",
    "        for l in logits_list[:500]\n",
    "    ]\n",
    "    dur = round(time.time() - t0, 1)\n",
    "    dur = round((time.time() - t0) / 500 * 1000, 1)\n",
    "    data.append((wer_val * 100, dur, beam_width))\n",
    "df_other = pd.DataFrame(data, columns=['wer_val', 'avg_dur_ms', 'beam_width'])"
   ]
  },
  {
   "cell_type": "code",
   "execution_count": 50,
   "metadata": {},
   "outputs": [
    {
     "name": "stderr",
     "output_type": "stream",
     "text": [
      "/Users/georg/venvs/kml/lib/python3.7/site-packages/seaborn/_decorators.py:43: FutureWarning: Pass the following variables as keyword args: x, y. From version 0.12, the only valid positional argument will be `data`, and passing other arguments without an explicit keyword will result in an error or misinterpretation.\n",
      "  FutureWarning\n",
      "/Users/georg/venvs/kml/lib/python3.7/site-packages/seaborn/_decorators.py:43: FutureWarning: Pass the following variables as keyword args: x, y. From version 0.12, the only valid positional argument will be `data`, and passing other arguments without an explicit keyword will result in an error or misinterpretation.\n",
      "  FutureWarning\n"
     ]
    },
    {
     "data": {
      "image/png": "[encoded data removed]",
      "text/plain": [
       "<Figure size 432x288 with 1 Axes>"
      ]
     },
     "metadata": {},
     "output_type": "display_data"
    }
   ],
   "source": [
    "sns.set_theme(style=\"darkgrid\")\n",
    "\n",
    "x = df_other[\"avg_dur_ms\"].values\n",
    "y = df_other[\"wer_val\"].values\n",
    "sns.lineplot(x, y, label=\"other\")\n",
    "\n",
    "x = df_pyctc[\"avg_dur_ms\"].values\n",
    "y = df_pyctc[\"wer_val\"].values\n",
    "sns.lineplot(x, y, label=\"pyctcdecode\")\n",
    "\n",
    "plt.xlabel('runtime / sample (ms)')\n",
    "plt.ylabel(\"word error rate (%)\")\n",
    "plt.title(\"librispeech dev-other\")\n",
    "plt.axis([0, 80, 7.5, 8.8])\n",
    "plt.show()"
   ]
  },
  {
   "cell_type": "code",
   "execution_count": null,
   "metadata": {},
   "outputs": [],
   "source": []
  },
  {
   "cell_type": "code",
   "execution_count": null,
   "metadata": {},
   "outputs": [],
   "source": []
  },
  {
   "cell_type": "code",
   "execution_count": null,
   "metadata": {},
   "outputs": [],
   "source": []
  },
  {
   "cell_type": "code",
   "execution_count": null,
   "metadata": {},
   "outputs": [],
   "source": []
  },
  {
   "cell_type": "code",
   "execution_count": null,
   "metadata": {},
   "outputs": [],
   "source": []
  },
  {
   "cell_type": "code",
   "execution_count": null,
   "metadata": {},
   "outputs": [],
   "source": []
  },
  {
   "cell_type": "code",
   "execution_count": null,
   "metadata": {},
   "outputs": [],
   "source": []
  }
 ],
 "metadata": {
  "kernelspec": {
   "display_name": "Python 3",
   "language": "python",
   "name": "python3"
  },
  "language_info": {
   "codemirror_mode": {
    "name": "ipython",
    "version": 3
   },
   "file_extension": ".py",
   "mimetype": "text/x-python",
   "name": "python",
   "nbconvert_exporter": "python",
   "pygments_lexer": "ipython3",
   "version": "3.7.9"
  }
 },
 "nbformat": 4,
 "nbformat_minor": 4
}
