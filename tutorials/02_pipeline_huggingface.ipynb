{
 "cells": [
  {
   "cell_type": "markdown",
   "metadata": {},
   "source": [
    "## How to use pyctcdecode when working with a Huggingface model"
   ]
  },
  {
   "cell_type": "code",
   "execution_count": null,
   "metadata": {},
   "outputs": [],
   "source": [
    "# install huggingface transformers\n",
    "!pip install transformers==4.5.1"
   ]
  },
  {
   "cell_type": "code",
   "execution_count": null,
   "metadata": {},
   "outputs": [],
   "source": [
    "# load pretrained model\n",
    "from transformers import Wav2Vec2Processor, Wav2Vec2ForCTC\n",
    "asr_processor = Wav2Vec2Processor.from_pretrained(\"facebook/wav2vec2-base-960h\")\n",
    "asr_model = Wav2Vec2ForCTC.from_pretrained(\"facebook/wav2vec2-base-960h\")"
   ]
  },
  {
   "cell_type": "code",
   "execution_count": null,
   "metadata": {},
   "outputs": [],
   "source": [
    "# get a single audio file\n",
    "!wget https://dldata-public.s3.us-east-2.amazonaws.com/1919-142785-0028.wav"
   ]
  },
  {
   "cell_type": "code",
   "execution_count": 2,
   "metadata": {},
   "outputs": [],
   "source": [
    "# transcribe audio to logits over characters\n",
    "import soundfile as sf\n",
    "arr, _ = sf.read('1919-142785-0028.wav')\n",
    "input_values = asr_processor(arr, return_tensors=\"pt\", sampling_rate=16000).input_values  # Batch size 1\n",
    "logits = asr_model(input_values).logits.cpu().detach().numpy()[0]"
   ]
  },
  {
   "cell_type": "code",
   "execution_count": 6,
   "metadata": {},
   "outputs": [
    {
     "name": "stdout",
     "output_type": "stream",
     "text": [
      "{'<pad>': 0, '<s>': 1, '</s>': 2, '<unk>': 3, '|': 4, 'E': 5, 'T': 6, 'A': 7, 'O': 8, 'N': 9, 'I': 10, 'H': 11, 'S': 12, 'R': 13, 'D': 14, 'L': 15, 'U': 16, 'M': 17, 'W': 18, 'C': 19, 'F': 20, 'G': 21, 'Y': 22, 'P': 23, 'B': 24, 'V': 25, 'K': 26, \"'\": 27, 'X': 28, 'J': 29, 'Q': 30, 'Z': 31}\n"
     ]
    }
   ],
   "source": [
    "# look at the alphabet of our model defining the labels for the logit matrix we just calculated\n",
    "print(asr_processor.tokenizer.get_vocab())"
   ]
  },
  {
   "cell_type": "markdown",
   "metadata": {},
   "source": [
    "The vocabulary is in a slightly unconventional shape so we will replace `\"<pad>\"` with `\"\"` and `\"|\"` with `\" \"` as well as the other special tokens (which are essentially unused)\n",
    "\n",
    "We need to standardize the special tokens and then specifically pass which index is the ctc blank token index (since it's not the last). For that reason we have to manually build the Alphabet and the decoder instead of using the convenience wrapper `build_ctcdecoder`."
   ]
  },
  {
   "cell_type": "code",
   "execution_count": 7,
   "metadata": {},
   "outputs": [
    {
     "data": {
      "text/plain": [
       "'BOIL THEM BEFORE THEY ARE PUT INTO THE SOUP OR OTHER DISH THEY MAY BE INTENDED FOR'"
      ]
     },
     "execution_count": 7,
     "metadata": {},
     "output_type": "execute_result"
    }
   ],
   "source": [
    "from pyctcdecode import Alphabet, BeamSearchDecoderCTC\n",
    "\n",
    "# make alphabet\n",
    "vocab_list = list(asr_processor.tokenizer.get_vocab().keys())\n",
    "# convert ctc blank character representation\n",
    "vocab_list[0] = \"\"\n",
    "# replace special characters\n",
    "vocab_list[1] = \"⁇\"\n",
    "vocab_list[2] = \"⁇\"\n",
    "vocab_list[3] = \"⁇\"\n",
    "# convert space character representation\n",
    "vocab_list[4] = \" \"\n",
    "# specify ctc blank char index, since conventionally it is the last entry of the logit matrix\n",
    "alphabet = Alphabet.build_alphabet(vocab_list, ctc_token_idx=0)\n",
    "\n",
    "# build the decoder and decode the logits\n",
    "decoder = BeamSearchDecoderCTC(alphabet)\n",
    "decoder.decode(logits)"
   ]
  },
  {
   "cell_type": "code",
   "execution_count": null,
   "metadata": {},
   "outputs": [],
   "source": []
  },
  {
   "cell_type": "code",
   "execution_count": null,
   "metadata": {},
   "outputs": [],
   "source": []
  },
  {
   "cell_type": "code",
   "execution_count": null,
   "metadata": {},
   "outputs": [],
   "source": []
  }
 ],
 "metadata": {
  "kernelspec": {
   "display_name": "Python 3",
   "language": "python",
   "name": "python3"
  },
  "language_info": {
   "codemirror_mode": {
    "name": "ipython",
    "version": 3
   },
   "file_extension": ".py",
   "mimetype": "text/x-python",
   "name": "python",
   "nbconvert_exporter": "python",
   "pygments_lexer": "ipython3",
   "version": "3.7.9"
  }
 },
 "nbformat": 4,
 "nbformat_minor": 4
}
